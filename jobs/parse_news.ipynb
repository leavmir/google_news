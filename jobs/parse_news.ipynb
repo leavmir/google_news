{
 "cells": [
  {
   "cell_type": "code",
   "execution_count": 1,
   "metadata": {},
   "outputs": [],
   "source": [
    "import requests\n",
    "import json\n",
    "import pandas as pd\n",
    "import time\n",
    "from datetime import timedelta,datetime\n",
    "import os"
   ]
  },
  {
   "cell_type": "code",
   "execution_count": 2,
   "metadata": {},
   "outputs": [],
   "source": [
    "# Parameters\n",
    "datapath = '/mnt/data/json'\n",
    "args = 'q=Google&'\n",
    "daterange = datetime.now() - timedelta(days = 4)\n",
    "date_to_parse_from = daterange.strftime(\"from=%Y-%m-%d&\")"
   ]
  },
  {
   "cell_type": "code",
   "execution_count": 3,
   "metadata": {},
   "outputs": [],
   "source": [
    "datewritten = time.strftime(\"date=%Y-%m-%d\")\n",
    "datecatalog = '{}/{}'.format(datapath,datewritten)\n",
    "if not os.path.isdir(datecatalog):\n",
    "    os.makedirs(datecatalog)"
   ]
  },
  {
   "cell_type": "code",
   "execution_count": 4,
   "metadata": {},
   "outputs": [],
   "source": [
    "url = ('https://newsapi.org/v2/everything?'\n",
    "       '{}'\n",
    "       '{}'\n",
    "       'sortBy=popularity&'\n",
    "       'apiKey=ea9cfdd820ac44d7b0b949d1d962f075').format(args,date_to_parse_from)\n",
    "\n",
    "parsed_jsons = requests.get(url)\n",
    "jsonResponse = parsed_jsons.json()\n"
   ]
  },
  {
   "cell_type": "code",
   "execution_count": 5,
   "metadata": {},
   "outputs": [],
   "source": [
    "articles = jsonResponse[\"articles\"]\n",
    "timestr = time.strftime(\"%Y%m%d-%H%M%S\")\n",
    "with open('{}/{}.json'.format(datecatalog,timestr), 'w', encoding='utf-8') as f:\n",
    "    json.dump(articles, f, ensure_ascii=False, indent=4)"
   ]
  }
 ],
 "metadata": {
  "kernelspec": {
   "display_name": "Python 3.10.4 64-bit",
   "language": "python",
   "name": "python3"
  },
  "language_info": {
   "codemirror_mode": {
    "name": "ipython",
    "version": 3
   },
   "file_extension": ".py",
   "mimetype": "text/x-python",
   "name": "python",
   "nbconvert_exporter": "python",
   "pygments_lexer": "ipython3",
   "version": "3.10.4"
  },
  "orig_nbformat": 4,
  "vscode": {
   "interpreter": {
    "hash": "31f2aee4e71d21fbe5cf8b01ff0e069b9275f58929596ceb00d14d90e3e16cd6"
   }
  }
 },
 "nbformat": 4,
 "nbformat_minor": 2
}
