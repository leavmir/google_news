{
 "cells": [
  {
   "cell_type": "code",
   "execution_count": 3,
   "metadata": {},
   "outputs": [],
   "source": [
    "import requests\n",
    "import json\n",
    "import pandas as pd\n",
    "import time\n",
    "from datetime import timedelta,datetime\n",
    "import os"
   ]
  },
  {
   "cell_type": "code",
   "execution_count": 4,
   "metadata": {},
   "outputs": [],
   "source": [
    "datapath = '/home/leavmir/data/json'\n",
    "args = 'q=Google&'\n",
    "#current_date = time.strftime(\"from=%Y-%m-%d\")\n",
    "#current_date = datetime.now()\n",
    "daterange = datetime.now() - timedelta(days = 4)\n",
    "date_to_parse_from = daterange.strftime(\"from=%Y-%m-%d&\")\n"
   ]
  },
  {
   "cell_type": "code",
   "execution_count": 5,
   "metadata": {},
   "outputs": [
    {
     "name": "stdout",
     "output_type": "stream",
     "text": [
      "from=2022-08-30&\n"
     ]
    }
   ],
   "source": [
    "print(date_to_parse_from)"
   ]
  },
  {
   "cell_type": "code",
   "execution_count": 6,
   "metadata": {},
   "outputs": [],
   "source": [
    "datewritten = time.strftime(\"date=%Y-%m-%d\")\n",
    "datecatalog = '{}/{}'.format(datapath,datewritten)\n",
    "if not os.path.isdir(datecatalog):\n",
    "    os.mkdir(datecatalog)"
   ]
  },
  {
   "cell_type": "code",
   "execution_count": 7,
   "metadata": {},
   "outputs": [],
   "source": [
    "url = ('https://newsapi.org/v2/everything?'\n",
    "       '{}'\n",
    "       '{}'\n",
    "       'sortBy=popularity&'\n",
    "       'apiKey=ea9cfdd820ac44d7b0b949d1d962f075').format(args,date_to_parse_from)\n",
    "\n",
    "parsed_jsons = requests.get(url)\n",
    "jsonResponse = parsed_jsons.json()\n"
   ]
  },
  {
   "cell_type": "code",
   "execution_count": 8,
   "metadata": {},
   "outputs": [],
   "source": [
    "articles = jsonResponse[\"articles\"]\n",
    "timestr = time.strftime(\"%Y%m%d-%H%M%S\")\n",
    "with open('{}/{}.json'.format(datecatalog,timestr), 'w', encoding='utf-8') as f:\n",
    "    json.dump(articles, f, ensure_ascii=False, indent=4)"
   ]
  },
  {
   "cell_type": "code",
   "execution_count": 39,
   "metadata": {},
   "outputs": [
    {
     "data": {
      "text/plain": [
       "'/home/leavmir/data/json/date=2022-08-28/20220828-224558.json'"
      ]
     },
     "execution_count": 39,
     "metadata": {},
     "output_type": "execute_result"
    }
   ],
   "source": [
    "#'{}/{}.json'.format(datecatalog,timestr)"
   ]
  }
 ],
 "metadata": {
  "kernelspec": {
   "display_name": "Python 3.10.4 64-bit",
   "language": "python",
   "name": "python3"
  },
  "language_info": {
   "codemirror_mode": {
    "name": "ipython",
    "version": 3
   },
   "file_extension": ".py",
   "mimetype": "text/x-python",
   "name": "python",
   "nbconvert_exporter": "python",
   "pygments_lexer": "ipython3",
   "version": "3.10.4"
  },
  "orig_nbformat": 4,
  "vscode": {
   "interpreter": {
    "hash": "31f2aee4e71d21fbe5cf8b01ff0e069b9275f58929596ceb00d14d90e3e16cd6"
   }
  }
 },
 "nbformat": 4,
 "nbformat_minor": 2
}
