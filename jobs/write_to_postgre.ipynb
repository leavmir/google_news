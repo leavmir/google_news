{
 "cells": [
  {
   "cell_type": "code",
   "execution_count": 18,
   "metadata": {},
   "outputs": [],
   "source": [
    "from pyspark.sql import SparkSession\n",
    "import os\n",
    "from datetime import timedelta,datetime\n",
    "from pyspark.sql.functions import *\n",
    "import time"
   ]
  },
  {
   "cell_type": "code",
   "execution_count": 19,
   "metadata": {},
   "outputs": [],
   "source": [
    "spark = SparkSession \\\n",
    "    .builder \\\n",
    "        .config(\"spark.jars\", \"/mnt/postgres_jar/postgresql-42.5.0.jar\") \\\n",
    "        .getOrCreate()    "
   ]
  },
  {
   "cell_type": "code",
   "execution_count": 20,
   "metadata": {},
   "outputs": [],
   "source": [
    "base_path = '/mnt/data/parquet'\n",
    "override_config_key = 'spark.override.date'\n",
    "current_date = datetime.now().strftime(\"%Y-%m-%d\")"
   ]
  },
  {
   "cell_type": "code",
   "execution_count": 21,
   "metadata": {},
   "outputs": [
    {
     "name": "stdout",
     "output_type": "stream",
     "text": [
      "Parameter is not set\n"
     ]
    }
   ],
   "source": [
    "try: \n",
    "    conf_value = spark.conf.get(override_config_key) \n",
    "    paths_to_read = '{}/date={}'.format(base_path,conf_value)\n",
    "except:\n",
    "    print(\"Parameter is not set\")\n",
    "    paths_to_read = '{}/date={}'.format(base_path,current_date)"
   ]
  },
  {
   "cell_type": "code",
   "execution_count": 22,
   "metadata": {},
   "outputs": [],
   "source": [
    "df = spark.read.option(\"basePath\",base_path) \\\n",
    "    .parquet(paths_to_read)"
   ]
  },
  {
   "cell_type": "code",
   "execution_count": 23,
   "metadata": {},
   "outputs": [],
   "source": [
    "aggregated_dataframe = df.groupBy(\"source_name\",\"date\") \\\n",
    "    .agg(count(lit(1)).alias(\"sum_articles\") \\\n",
    "        ,max(\"timestamp\").alias(\"last_published_date\")\n",
    "        )"
   ]
  },
  {
   "cell_type": "code",
   "execution_count": 25,
   "metadata": {},
   "outputs": [],
   "source": [
    "aggregated_dataframe.write.format(\"jdbc\") \\\n",
    "    .option(\"url\", \"jdbc:postgresql://host.docker.internal:7432/airflow\") \\\n",
    "    .option(\"dbtable\", \"aggregated_articles\") \\\n",
    "    .option(\"driver\", \"org.postgresql.Driver\") \\\n",
    "    .option(\"user\", \"airflow\") \\\n",
    "    .option(\"password\", \"airflow\") \\\n",
    "    .mode(\"append\") \\\n",
    "    .save()"
   ]
  }
 ],
 "metadata": {
  "kernelspec": {
   "display_name": "Python 3.10.4 64-bit",
   "language": "python",
   "name": "python3"
  },
  "language_info": {
   "codemirror_mode": {
    "name": "ipython",
    "version": 3
   },
   "file_extension": ".py",
   "mimetype": "text/x-python",
   "name": "python",
   "nbconvert_exporter": "python",
   "pygments_lexer": "ipython3",
   "version": "3.10.4"
  },
  "orig_nbformat": 4,
  "vscode": {
   "interpreter": {
    "hash": "31f2aee4e71d21fbe5cf8b01ff0e069b9275f58929596ceb00d14d90e3e16cd6"
   }
  }
 },
 "nbformat": 4,
 "nbformat_minor": 2
}
