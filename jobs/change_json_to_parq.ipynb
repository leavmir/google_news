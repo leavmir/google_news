{
 "cells": [
  {
   "cell_type": "code",
   "execution_count": 1,
   "metadata": {},
   "outputs": [],
   "source": [
    "from pyspark.sql import SparkSession\n",
    "import os\n",
    "import json\n",
    "from datetime import timedelta,datetime\n",
    "from pyspark.sql.functions import *\n",
    "import time"
   ]
  },
  {
   "cell_type": "code",
   "execution_count": 2,
   "metadata": {},
   "outputs": [
    {
     "name": "stdout",
     "output_type": "stream",
     "text": [
      "22/09/17 18:05:03 WARN Utils: Your hostname, DESKTOP-GPLR42E resolves to a loopback address: 127.0.1.1; using 172.25.231.107 instead (on interface eth0)\n",
      "22/09/17 18:05:03 WARN Utils: Set SPARK_LOCAL_IP if you need to bind to another address\n"
     ]
    },
    {
     "name": "stderr",
     "output_type": "stream",
     "text": [
      "Setting default log level to \"WARN\".\n",
      "To adjust logging level use sc.setLogLevel(newLevel). For SparkR, use setLogLevel(newLevel).\n"
     ]
    },
    {
     "name": "stdout",
     "output_type": "stream",
     "text": [
      "22/09/17 18:05:05 WARN NativeCodeLoader: Unable to load native-hadoop library for your platform... using builtin-java classes where applicable\n"
     ]
    }
   ],
   "source": [
    "spark = SparkSession \\\n",
    "    .builder \\\n",
    "    .getOrCreate()"
   ]
  },
  {
   "cell_type": "code",
   "execution_count": 3,
   "metadata": {},
   "outputs": [],
   "source": [
    "base_path = '/mnt/data/json'\n",
    "override_config_key = 'spark.override.date'\n",
    "parquet_write_path = '/mnt/data/parquet/'\n",
    "current_date = datetime.now().strftime(\"%Y-%m-%d\")"
   ]
  },
  {
   "cell_type": "code",
   "execution_count": 4,
   "metadata": {},
   "outputs": [
    {
     "name": "stdout",
     "output_type": "stream",
     "text": [
      "Parameter is not set\n"
     ]
    }
   ],
   "source": [
    "try: \n",
    "    conf_value = spark.conf.get(override_config_key) \n",
    "    paths_to_read = '{}/date={}'.format(base_path,conf_value)\n",
    "except:\n",
    "    print(\"Parameter is not set\")\n",
    "    paths_to_read = '{}/date={}'.format(base_path,current_date)\n"
   ]
  },
  {
   "cell_type": "code",
   "execution_count": 5,
   "metadata": {},
   "outputs": [],
   "source": [
    "df = spark.read.option(\"basePath\",base_path) \\\n",
    "    .option(\"multiLine\", \"True\") \\\n",
    "        .json(paths_to_read)"
   ]
  },
  {
   "cell_type": "code",
   "execution_count": 6,
   "metadata": {},
   "outputs": [],
   "source": [
    "final_dataframe = df.withColumn(\"source_name\",col(\"source.name\")) \\\n",
    "    .withColumn(\"timestamp\",to_timestamp(\"publishedAt\")) \\\n",
    "    .drop(\"id\",\"title\",\"urlToImage\",\"source\",\"publishedAt\")"
   ]
  },
  {
   "cell_type": "code",
   "execution_count": 7,
   "metadata": {},
   "outputs": [
    {
     "name": "stderr",
     "output_type": "stream",
     "text": [
      "                                                                                \r"
     ]
    }
   ],
   "source": [
    "final_dataframe.write.mode(\"overwrite\") \\\n",
    "    .partitionBy(\"date\") \\\n",
    "    .option(\"partitionOverwriteMode\",\"dynamic\") \\\n",
    "    .parquet(parquet_write_path)"
   ]
  }
 ],
 "metadata": {
  "kernelspec": {
   "display_name": "Python 3.10.4 64-bit",
   "language": "python",
   "name": "python3"
  },
  "language_info": {
   "codemirror_mode": {
    "name": "ipython",
    "version": 3
   },
   "file_extension": ".py",
   "mimetype": "text/x-python",
   "name": "python",
   "nbconvert_exporter": "python",
   "pygments_lexer": "ipython3",
   "version": "3.10.4"
  },
  "orig_nbformat": 4,
  "vscode": {
   "interpreter": {
    "hash": "31f2aee4e71d21fbe5cf8b01ff0e069b9275f58929596ceb00d14d90e3e16cd6"
   }
  }
 },
 "nbformat": 4,
 "nbformat_minor": 2
}
