{
 "cells": [
  {
   "cell_type": "code",
   "execution_count": 33,
   "metadata": {},
   "outputs": [],
   "source": [
    "from pyspark.sql import SparkSession\n",
    "import os\n",
    "import json\n",
    "from datetime import timedelta,datetime\n",
    "from pyspark.sql.functions import *\n",
    "import time"
   ]
  },
  {
   "cell_type": "code",
   "execution_count": 34,
   "metadata": {},
   "outputs": [],
   "source": [
    "spark = SparkSession \\\n",
    "    .builder \\\n",
    "    .getOrCreate()"
   ]
  },
  {
   "cell_type": "code",
   "execution_count": 35,
   "metadata": {},
   "outputs": [],
   "source": [
    "base_path = '/home/leavmir/data/json'\n",
    "override_config_key = 'spark.override.date'\n",
    "parquet_write_path = '/home/leavmir/data/parquet/'\n",
    "current_date = datetime.now().strftime(\"%Y-%m-%d\")"
   ]
  },
  {
   "cell_type": "code",
   "execution_count": 36,
   "metadata": {},
   "outputs": [
    {
     "name": "stdout",
     "output_type": "stream",
     "text": [
      "Parameter is not set\n"
     ]
    }
   ],
   "source": [
    "try: \n",
    "    conf_value = spark.conf.get(override_config_key) \n",
    "    paths_to_read = '{}/date={}'.format(base_path,conf_value)\n",
    "except:\n",
    "    print(\"Parameter is not set\")\n",
    "    paths_to_read = '{}/date={}'.format(base_path,current_date)\n"
   ]
  },
  {
   "cell_type": "code",
   "execution_count": 37,
   "metadata": {},
   "outputs": [],
   "source": [
    "df = spark.read.option(\"basePath\",\"/home/leavmir/data/json\") \\\n",
    "    .option(\"multiLine\", \"True\") \\\n",
    "        .json(paths_to_read)"
   ]
  },
  {
   "cell_type": "code",
   "execution_count": 38,
   "metadata": {},
   "outputs": [],
   "source": [
    "json_column = df.select(\"publishedAt\",\"source\")\n",
    "#json_column.printSchema()\n",
    "exploded_json_column = json_column.select(\"source.*\",\"*\").drop(\"source\")"
   ]
  },
  {
   "cell_type": "code",
   "execution_count": 39,
   "metadata": {},
   "outputs": [],
   "source": [
    "final_dataframe = df.join(exploded_json_column, \"publishedAt\") \\\n",
    "    .withColumn(\"timestamp\",to_timestamp(\"publishedAt\")) \\\n",
    "    .drop(\"id\",\"title\",\"urlToImage\",\"source\",\"publishedAt\")"
   ]
  },
  {
   "cell_type": "code",
   "execution_count": 40,
   "metadata": {},
   "outputs": [],
   "source": [
    "# parquet_path = '/home/leavmir/data/parquet/{}' \\\n",
    "#     .format(time.strftime(\"date=%Y-%m-%d\"))\n",
    "# if not os.path.isdir(parquet_path):\n",
    "#     os.mkdir(parquet_path)"
   ]
  },
  {
   "cell_type": "code",
   "execution_count": 41,
   "metadata": {},
   "outputs": [],
   "source": [
    "final_dataframe = df.join(exploded_json_column, \"publishedAt\") \\\n",
    "    .withColumn(\"timestamp\",to_timestamp(\"publishedAt\")) \\\n",
    "    .drop(\"id\",\"title\",\"urlToImage\",\"source\",\"publishedAt\")"
   ]
  },
  {
   "cell_type": "code",
   "execution_count": 42,
   "metadata": {},
   "outputs": [],
   "source": [
    "final_dataframe.write.mode(\"overwrite\") \\\n",
    "    .partitionBy(\"date\") \\\n",
    "    .option(\"partitionOverwriteMode\",\"dynamic\") \\\n",
    "    .parquet(parquet_write_path)"
   ]
  }
 ],
 "metadata": {
  "kernelspec": {
   "display_name": "Python 3.10.4 64-bit",
   "language": "python",
   "name": "python3"
  },
  "language_info": {
   "codemirror_mode": {
    "name": "ipython",
    "version": 3
   },
   "file_extension": ".py",
   "mimetype": "text/x-python",
   "name": "python",
   "nbconvert_exporter": "python",
   "pygments_lexer": "ipython3",
   "version": "3.10.4"
  },
  "orig_nbformat": 4,
  "vscode": {
   "interpreter": {
    "hash": "31f2aee4e71d21fbe5cf8b01ff0e069b9275f58929596ceb00d14d90e3e16cd6"
   }
  }
 },
 "nbformat": 4,
 "nbformat_minor": 2
}
