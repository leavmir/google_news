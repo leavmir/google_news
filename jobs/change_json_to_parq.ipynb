{
 "cells": [
  {
   "cell_type": "code",
   "execution_count": 33,
   "metadata": {},
   "outputs": [],
   "source": [
    "from pyspark.sql import SparkSession\n",
    "import os\n",
    "import json\n",
    "from datetime import timedelta,datetime\n",
    "from pyspark.sql.functions import *\n",
    "import time"
   ]
  },
  {
   "cell_type": "code",
   "execution_count": 34,
   "metadata": {},
   "outputs": [],
   "source": [
    "spark = SparkSession \\\n",
    "    .builder \\\n",
    "    .getOrCreate()"
   ]
  },
  {
   "cell_type": "code",
   "execution_count": 35,
   "metadata": {},
   "outputs": [],
   "source": [
    "base_path = '/home/leavmir/data/json'\n",
    "override_config_key = 'spark.override.date'\n",
    "parquet_write_path = '/home/leavmir/data/parquet/'\n",
    "current_date = datetime.now().strftime(\"%Y-%m-%d\")"
   ]
  },
  {
   "cell_type": "code",
   "execution_count": 36,
   "metadata": {},
   "outputs": [
    {
     "name": "stdout",
     "output_type": "stream",
     "text": [
      "Parameter is not set\n"
     ]
    }
   ],
   "source": [
    "try: \n",
    "    conf_value = spark.conf.get(override_config_key) \n",
    "    paths_to_read = '{}/date={}'.format(base_path,conf_value)\n",
    "except:\n",
    "    print(\"Parameter is not set\")\n",
    "    paths_to_read = '{}/date={}'.format(base_path,current_date)\n"
   ]
  },
  {
   "cell_type": "code",
   "execution_count": 48,
   "metadata": {},
   "outputs": [
    {
     "name": "stdout",
     "output_type": "stream",
     "text": [
      "root\n",
      " |-- author: string (nullable = true)\n",
      " |-- content: string (nullable = true)\n",
      " |-- description: string (nullable = true)\n",
      " |-- publishedAt: string (nullable = true)\n",
      " |-- source: struct (nullable = true)\n",
      " |    |-- id: string (nullable = true)\n",
      " |    |-- name: string (nullable = true)\n",
      " |-- title: string (nullable = true)\n",
      " |-- url: string (nullable = true)\n",
      " |-- urlToImage: string (nullable = true)\n",
      " |-- date: date (nullable = true)\n",
      "\n"
     ]
    }
   ],
   "source": [
    "df = spark.read.option(\"basePath\",base_path) \\\n",
    "    .option(\"multiLine\", \"True\") \\\n",
    "        .json(paths_to_read)"
   ]
  },
  {
   "cell_type": "code",
   "execution_count": 47,
   "metadata": {},
   "outputs": [
    {
     "name": "stdout",
     "output_type": "stream",
     "text": [
      "+--------------------+--------------------+--------------------+--------------------+----------+---------------+-------------------+\n",
      "|              author|             content|         description|                 url|      date|    source_name|          timestamp|\n",
      "+--------------------+--------------------+--------------------+--------------------+----------+---------------+-------------------+\n",
      "|        Cherlynn Low|Parler, the app t...|Parler, the app t...|https://www.engad...|2022-09-05|       Engadget|2022-09-02 23:19:02|\n",
      "|        Billy Steele|In 2021, Jabra up...|In 2021, Jabra up...|https://www.engad...|2022-09-05|       Engadget|2022-09-01 20:00:41|\n",
      "|      Louryn Strampe|Labor Day sales a...|Make the most of ...|https://www.wired...|2022-09-05|          Wired|2022-09-03 15:00:00|\n",
      "|         WIRED Staff|Collectively, peo...|This week, we exa...|https://www.wired...|2022-09-05|          Wired|2022-09-01 16:00:00|\n",
      "|         Simon Lucas|Aside from one of...|There's a new pan...|https://www.wired...|2022-09-05|          Wired|2022-09-02 16:00:00|\n",
      "|Jennifer Pattison...|Theyre really doi...|The once Apple Ho...|https://www.theve...|2022-09-05|      The Verge|2022-09-01 13:00:00|\n",
      "|         Chris Welch|Plus a $700 wirel...|Sennheiser has an...|https://www.theve...|2022-09-05|      The Verge|2022-09-01 21:00:00|\n",
      "|        Zoe Schiffer|Illustration by K...|Twitter had an am...|https://www.theve...|2022-09-05|      The Verge|2022-09-02 20:05:00|\n",
      "|       James Vincent|The AI-generated ...|A game designer h...|https://www.theve...|2022-09-05|      The Verge|2022-09-01 20:23:56|\n",
      "|                null|(Reuters) - Dialp...|Dialpad Inc has h...|https://www.reute...|2022-09-05|        Reuters|2022-09-01 21:51:00|\n",
      "|                null|<ul><li>\\r\\nSumma...|The only active p...|https://www.reute...|2022-09-05|        Reuters|2022-09-02 21:05:00|\n",
      "|                null|<ul><li>\\r\\nSumma...|Apple Inc has set...|https://www.reute...|2022-09-05|        Reuters|2022-09-01 21:36:00|\n",
      "|                null|Sept 2 (Reuters) ...|Parler, a social ...|https://www.reute...|2022-09-05|        Reuters|2022-09-02 23:31:00|\n",
      "|                null|NEW DELHI, Sept 5...|India has summone...|https://www.reute...|2022-09-05|        Reuters|2022-09-05 16:08:00|\n",
      "|                null|<ul><li>\\r\\nSumma...|E-commerce platfo...|https://www.reute...|2022-09-05|        Reuters|2022-09-01 23:32:00|\n",
      "|  Reuters Fact Check|An image purporte...|An image purporte...|https://www.reute...|2022-09-05|        Reuters|2022-09-02 19:02:00|\n",
      "|techkritiko@gmail...|<ul><li>Google ha...|Google is now let...|https://www.andro...|2022-09-05|Android Central|2022-09-03 08:50:51|\n",
      "|techkritiko@gmail...|<ul><li>Google ap...|Google appears to...|https://www.andro...|2022-09-05|Android Central|2022-09-01 08:40:06|\n",
      "|tips@androidcentr...|<ul><li>Google pl...|With the new comm...|https://www.andro...|2022-09-05|Android Central|2022-09-03 09:48:31|\n",
      "|techkritiko@gmail...|<ul><li>Parler's ...|Parler's mobile a...|https://www.andro...|2022-09-05|Android Central|2022-09-04 17:57:34|\n",
      "+--------------------+--------------------+--------------------+--------------------+----------+---------------+-------------------+\n",
      "only showing top 20 rows\n",
      "\n"
     ]
    }
   ],
   "source": [
    "final_dataframe = df.withColumn(\"source_name\",col(\"source.name\")) \\\n",
    "    .withColumn(\"timestamp\",to_timestamp(\"publishedAt\")) \\\n",
    "    .drop(\"id\",\"title\",\"urlToImage\",\"source\",\"publishedAt\")"
   ]
  },
  {
   "cell_type": "code",
   "execution_count": 40,
   "metadata": {},
   "outputs": [],
   "source": [
    "# parquet_path = '/home/leavmir/data/parquet/{}' \\\n",
    "#     .format(time.strftime(\"date=%Y-%m-%d\"))\n",
    "# if not os.path.isdir(parquet_path):\n",
    "#     os.mkdir(parquet_path)"
   ]
  },
  {
   "cell_type": "code",
   "execution_count": 41,
   "metadata": {},
   "outputs": [],
   "source": [
    "final_dataframe = df.join(exploded_json_column, \"publishedAt\") \\\n",
    "    .withColumn(\"timestamp\",to_timestamp(\"publishedAt\")) \\\n",
    "    .drop(\"id\",\"title\",\"urlToImage\",\"source\",\"publishedAt\")"
   ]
  },
  {
   "cell_type": "code",
   "execution_count": 42,
   "metadata": {},
   "outputs": [],
   "source": [
    "final_dataframe.write.mode(\"overwrite\") \\\n",
    "    .partitionBy(\"date\") \\\n",
    "    .option(\"partitionOverwriteMode\",\"dynamic\") \\\n",
    "    .parquet(parquet_write_path)"
   ]
  }
 ],
 "metadata": {
  "kernelspec": {
   "display_name": "Python 3.10.4 64-bit",
   "language": "python",
   "name": "python3"
  },
  "language_info": {
   "codemirror_mode": {
    "name": "ipython",
    "version": 3
   },
   "file_extension": ".py",
   "mimetype": "text/x-python",
   "name": "python",
   "nbconvert_exporter": "python",
   "pygments_lexer": "ipython3",
   "version": "3.10.4"
  },
  "orig_nbformat": 4,
  "vscode": {
   "interpreter": {
    "hash": "31f2aee4e71d21fbe5cf8b01ff0e069b9275f58929596ceb00d14d90e3e16cd6"
   }
  }
 },
 "nbformat": 4,
 "nbformat_minor": 2
}
